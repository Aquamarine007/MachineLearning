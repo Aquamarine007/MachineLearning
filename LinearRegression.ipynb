{
  "nbformat": 4,
  "nbformat_minor": 0,
  "metadata": {
    "colab": {
      "name": "LinearRegression のコピー",
      "provenance": [],
      "authorship_tag": "ABX9TyPZKhesAQINZ+8cWMMd6Ve/",
      "include_colab_link": true
    },
    "kernelspec": {
      "name": "python3",
      "display_name": "Python 3"
    }
  },
  "cells": [
    {
      "cell_type": "markdown",
      "metadata": {
        "id": "view-in-github",
        "colab_type": "text"
      },
      "source": [
        "<a href=\"https://colab.research.google.com/github/Aquamarine007/MachineLearning/blob/master/LinearRegression.ipynb\" target=\"_parent\"><img src=\"https://colab.research.google.com/assets/colab-badge.svg\" alt=\"Open In Colab\"/></a>"
      ]
    },
    {
      "cell_type": "code",
      "metadata": {
        "id": "S-PDz85s0Q75",
        "colab_type": "code",
        "colab": {}
      },
      "source": [
        "#!pip install mglearn"
      ],
      "execution_count": 0,
      "outputs": []
    },
    {
      "cell_type": "code",
      "metadata": {
        "id": "ZXGYgXX90Z-Y",
        "colab_type": "code",
        "colab": {}
      },
      "source": [
        "#ライブラリのインポート\n",
        "from sklearn.model_selection import train_test_split\n",
        "from mglearn.datasets import load_extended_boston\n",
        "\n",
        "#データセットの読み込み\n",
        "X,y = load_extended_boston()\n",
        "\n",
        "#訓練データとテストデータの分割\n",
        "X_train,X_test,y_train,y_test = train_test_split(X,y,random_state=0)"
      ],
      "execution_count": 0,
      "outputs": []
    },
    {
      "cell_type": "code",
      "metadata": {
        "id": "FW5asGrO1L4M",
        "colab_type": "code",
        "outputId": "30ca758e-3809-436a-cea5-3236ec2eee3a",
        "colab": {
          "base_uri": "https://localhost:8080/",
          "height": 276
        }
      },
      "source": [
        "# 必要なライブラリのインポート\n",
        "import matplotlib.pyplot as plt\n",
        "from sklearn import linear_model\n",
        "plt.style.use('seaborn-darkgrid')  # グラフのスタイルを変換\n",
        "\n",
        "# 住居の平均部屋数の列のみを使用\n",
        "X_train_single = X_train[:, 5].reshape(-1, 1)\n",
        "X_test_single = X_test[:, 5].reshape(-1, 1)\n",
        "\n",
        "# 単回帰モデルの適用\n",
        "lm_single = linear_model.LinearRegression()\n",
        "lm_single.fit(X_train_single, y_train)\n",
        "\n",
        "# 構築した単回帰モデルで訓練データを予測\n",
        "y_pred_train = lm_single.predict(X_train_single)\n",
        "\n",
        "# 学習データと学習した単回帰モデルの可視化\n",
        "plt.xlabel('RM')    # x軸のラベルを設定\n",
        "plt.ylabel('MEDV')    # y軸のラベルを設定\n",
        "plt.scatter(X_train_single, y_train)    # 各データ点（散布図）を作図\n",
        "plt.plot(X_train_single, y_pred_train, color='red',linewidth=2)    #回帰した直線を作図\n",
        "plt.show()    # 作成したグラフを描画"
      ],
      "execution_count": 0,
      "outputs": [
        {
          "output_type": "display_data",
          "data": {
            "image/png": "[encoded data removed]",
            "text/plain": [
              "<Figure size 432x288 with 1 Axes>"
            ]
          },
          "metadata": {
            "tags": []
          }
        }
      ]
    },
    {
      "cell_type": "code",
      "metadata": {
        "id": "i7QRmSqa2LFq",
        "colab_type": "code",
        "colab": {}
      },
      "source": [
        "# バイアスパラメータと重みパラメータの表示\n",
        "print(f'intercept: {lm_single.intercept_:.2f}')\n",
        "print(f'coef: {lm_single.coef_[0]:.2f}')"
      ],
      "execution_count": 0,
      "outputs": []
    },
    {
      "cell_type": "code",
      "metadata": {
        "id": "HYmdSIII3goO",
        "colab_type": "code",
        "outputId": "271f2dc3-ce9c-4015-8f9a-6060198f6df9",
        "colab": {
          "base_uri": "https://localhost:8080/",
          "height": 51
        }
      },
      "source": [
        "# 訓練データとテストデータでモデルを評価\n",
        "print(f'Train score: {lm_single.score(X_train_single, y_train):.2f}')\n",
        "print(f'Test score: {lm_single.score(X_test_single, y_test):.2f}')"
      ],
      "execution_count": 0,
      "outputs": [
        {
          "output_type": "stream",
          "text": [
            "Train score: 0.49\n",
            "Test score: 0.47\n"
          ],
          "name": "stdout"
        }
      ]
    },
    {
      "cell_type": "code",
      "metadata": {
        "id": "aOzCg0d-3lmV",
        "colab_type": "code",
        "outputId": "f2879918-0c96-4a4a-b1c1-3179bb0e623e",
        "colab": {
          "base_uri": "https://localhost:8080/",
          "height": 85
        }
      },
      "source": [
        "# 重回帰モデルを適用する\n",
        "lm = linear_model.LinearRegression()\n",
        "lm.fit(X_train, y_train)\n",
        "\n",
        "# バイアスパラメータと重みパラメータ先頭4個の表示\n",
        "print(f'intercept: {lm.intercept_:.2f}')\n",
        "print(f'coef: {lm.coef_[:4]}')\n",
        "\n",
        "# 訓練データとテストデータでモデルを評価\n",
        "print(f'Train score: {lm.score(X_train, y_train):.2f}')\n",
        "print(f'Test score: {lm.score(X_test, y_test):.2f}')"
      ],
      "execution_count": 0,
      "outputs": [
        {
          "output_type": "stream",
          "text": [
            "intercept: 30.93\n",
            "coef: [-412.7109467   -52.24320682 -131.89881469  -12.00413648]\n",
            "Train score: 0.95\n",
            "Test score: 0.61\n"
          ],
          "name": "stdout"
        }
      ]
    }
  ]
}