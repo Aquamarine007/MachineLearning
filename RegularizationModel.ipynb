{
  "nbformat": 4,
  "nbformat_minor": 0,
  "metadata": {
    "colab": {
      "name": "RegularizationModel.ipynb",
      "provenance": [],
      "authorship_tag": "ABX9TyOAESmHkMMXSDkMB1sUQBgC",
      "include_colab_link": true
    },
    "kernelspec": {
      "name": "python3",
      "display_name": "Python 3"
    }
  },
  "cells": [
    {
      "cell_type": "markdown",
      "metadata": {
        "id": "view-in-github",
        "colab_type": "text"
      },
      "source": [
        "<a href=\"https://colab.research.google.com/github/Aquamarine007/MachineLearning/blob/master/RegularizationModel.ipynb\" target=\"_parent\"><img src=\"https://colab.research.google.com/assets/colab-badge.svg\" alt=\"Open In Colab\"/></a>"
      ]
    },
    {
      "cell_type": "code",
      "metadata": {
        "id": "MT943Fbd_gva",
        "colab_type": "code",
        "colab": {}
      },
      "source": [
        "!pip install mglearn"
      ],
      "execution_count": 0,
      "outputs": []
    },
    {
      "cell_type": "code",
      "metadata": {
        "id": "9ELEJSix_L6T",
        "colab_type": "code",
        "colab": {}
      },
      "source": [
        "# 必要なライブラリのインポート\n",
        "from sklearn.model_selection import train_test_split\n",
        "from mglearn.datasets import load_extended_boston\n",
        "\n",
        "# データセットの読み込み\n",
        "X, y = load_extended_boston()\n",
        "\n",
        "# 訓練データとテストデータに分割\n",
        "X_train, X_test, y_train, y_test = train_test_split(X, y, random_state=0)"
      ],
      "execution_count": 0,
      "outputs": []
    },
    {
      "cell_type": "code",
      "metadata": {
        "id": "sxQAXteL_wvt",
        "colab_type": "code",
        "colab": {
          "base_uri": "https://localhost:8080/",
          "height": 85
        },
        "outputId": "da5ca48d-da89-439c-e0dd-da60aefc2bc1"
      },
      "source": [
        "# 必要なライブラリのインポート\n",
        "from sklearn import linear_model\n",
        "\n",
        "#L2正則化（Ridge回帰）の適用\n",
        "ridge = linear_model.Ridge(alpha=1.0, random_state=0)\n",
        "ridge.fit(X_train, y_train)\n",
        "\n",
        "# バイアスパラメータと重みパラメータ先頭4個の表示\n",
        "print(f'intercept: {ridge.intercept_:.2f}')\n",
        "print(f'coef: {ridge.coef_[:4]}')\n",
        "\n",
        "# 訓練データとテストデータでモデルを評価\n",
        "print(f'Train score: {ridge.score(X_train, y_train):.2f}')\n",
        "print(f'Test score: {ridge.score(X_test, y_test):.2f}')"
      ],
      "execution_count": 4,
      "outputs": [
        {
          "output_type": "stream",
          "text": [
            "intercept: 21.39\n",
            "coef: [-1.41368408 -1.55661895 -1.46543409 -0.12661607]\n",
            "Train score: 0.89\n",
            "Test score: 0.75\n"
          ],
          "name": "stdout"
        }
      ]
    },
    {
      "cell_type": "code",
      "metadata": {
        "id": "bHw7TOXY_1yN",
        "colab_type": "code",
        "colab": {
          "base_uri": "https://localhost:8080/",
          "height": 68
        },
        "outputId": "e8e81ebc-e080-49ae-b94a-0cd2e471d727"
      },
      "source": [
        "# 必要なライブラリのインポート\n",
        "import numpy as np\n",
        "\n",
        "# L1正則化（Lasso）の適用\n",
        "lasso = linear_model.Lasso(alpha=0.01, max_iter=2000, random_state=0)\n",
        "lasso.fit(X_train, y_train)\n",
        "\n",
        "# 値が0以外の重みパラメータを表示\n",
        "print(f'Number of nonzero parameters: {np.count_nonzero(lasso.coef_)}')\n",
        "\n",
        "# 訓練データとテストデータでモデルを評価\n",
        "print(f'Train score:{lasso.score(X_train, y_train):.2f}')\n",
        "print(f'Test score:{lasso.score(X_test, y_test):.2f}')"
      ],
      "execution_count": 5,
      "outputs": [
        {
          "output_type": "stream",
          "text": [
            "Number of nonzero parameters: 33\n",
            "Train score:0.90\n",
            "Test score:0.77\n"
          ],
          "name": "stdout"
        }
      ]
    }
  ]
}